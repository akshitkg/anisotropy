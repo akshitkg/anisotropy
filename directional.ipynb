{
 "cells": [
  {
   "cell_type": "code",
   "execution_count": 10,
   "metadata": {},
   "outputs": [],
   "source": [
    "import numpy as np\n",
    "import math\n",
    "import cv2"
   ]
  },
  {
   "cell_type": "code",
   "execution_count": 11,
   "metadata": {},
   "outputs": [],
   "source": [
    "# Utility functions\n",
    "\n",
    "class directional_window:\n",
    "    # to create an instance of directional search window\n",
    "    pass\n",
    "\n",
    "\n",
    "\n",
    "def distance_between_coordinates(c1, c2):\n",
    "    # Input: \n",
    "    # Output: distance between two coordinates in meters\n",
    "    sf=0.1 # scaling factor to convert distance to meters\n",
    "    distance=math.sqrt((c1[0]-c2[0])**2 + (c1[1]-c2[1])**2)\n",
    "    return distance*sf\n",
    "\n",
    "\n",
    "\n",
    "\n",
    "def directional_search_window_angles(azimuth, tolerance_angle, directional_window):\n",
    "    directional_window.primary_low = (azimuth - tolerance_angle) % 360     # low = moving clockwise\n",
    "    directional_window.primary_high = (azimuth + tolerance_angle) % 360    # primary = in azimuth_direction\n",
    "    directional_window.secondary_low = (azimuth - tolerance_angle + 180) % 360  # secondary = 180 + azimuth_direction\n",
    "    directional_window.secondary_high = (azimuth + tolerance_angle + 180) % 360\n",
    "\n",
    "    return directional_window\n",
    "\n",
    "\n",
    "def extract_coordinates_from_image(image_path):\n",
    "    # Read the image\n",
    "    binary_image = cv2.imread(image_path, cv2.IMREAD_GRAYSCALE)\n",
    "\n",
    "    if binary_image is None:\n",
    "        print(\"Error: Unable to read the image.\")\n",
    "        return \n",
    "\n",
    "    # Threshold the image to obtain a binary image\n",
    "    _, binary_image = cv2.threshold(binary_image, 128, 255, cv2.THRESH_BINARY)\n",
    "\n",
    "    # Get the coordinates of the white pixels (points)\n",
    "    point_coordinates = []\n",
    "    rows, cols = binary_image.shape\n",
    "\n",
    "    for y in range(rows):\n",
    "        for x in range(cols):\n",
    "            if binary_image[y, x] == 255:\n",
    "                point_coordinates.append((x, y))\n",
    "        # print(point_coordinates)\n",
    "\n",
    "    return point_coordinates\n",
    "\n",
    "\n",
    "def whether_within_the_radius(directional_window, point):\n",
    "    distance=distance_between_coordinates(directional_window.center, point)\n",
    "    print(\"distance: \", distance)\n",
    "    if distance<=directional_window.radius:\n",
    "        return True\n",
    "    else:\n",
    "        return False\n",
    "    \n",
    "\n",
    "def whether_within_azimuth(directional_window, point):\n",
    "    dw=directional_window\n",
    "    center_to_point=math.degrees(math.atan2((point[1]-dw.center[1]),(point[0]-dw.center[0]))) % 360\n",
    "    print(\"angle_from_center in degrees: \", center_to_point)\n",
    "    if dw.primary_low<=center_to_point<=dw.primary_high or dw.secondary_low<=center_to_point<=dw.secondary_high:\n",
    "        return True\n",
    "    else:\n",
    "        return False\n",
    "\n",
    "\n",
    "\n",
    " "
   ]
  },
  {
   "cell_type": "code",
   "execution_count": 12,
   "metadata": {},
   "outputs": [],
   "source": [
    "def if_point_in_directional_window(directional_window, point):\n",
    "    dw=directional_window\n",
    "    radii_check=whether_within_the_radius(dw, point)\n",
    "    azimuth_check=whether_within_azimuth(dw,point)\n",
    "    print(\"radii_check: \", radii_check)\n",
    "    print(\"azi_check: \", azimuth_check)\n",
    "\n",
    "    if radii_check and azimuth_check:\n",
    "        return 1\n",
    "    else:\n",
    "        return 0\n"
   ]
  },
  {
   "cell_type": "code",
   "execution_count": 13,
   "metadata": {},
   "outputs": [
    {
     "name": "stdout",
     "output_type": "stream",
     "text": [
      "distance:  0.223606797749979\n",
      "angle_from_center in degrees:  63.43494882292201\n",
      "radii_check:  True\n",
      "azi_check:  True\n",
      "1\n"
     ]
    }
   ],
   "source": [
    "dw=directional_window\n",
    "dw.center=(0,0)\n",
    "dw.radius=0.4\n",
    "dw.primary_low=45\n",
    "dw.primary_high=65\n",
    "dw.secondary_low=225\n",
    "dw.secondary_high=245\n",
    "point=(1,2)\n",
    "\n",
    "dir_check=if_point_in_directional_window(dw, point)\n",
    "print(dir_check)"
   ]
  },
  {
   "cell_type": "code",
   "execution_count": 14,
   "metadata": {},
   "outputs": [],
   "source": [
    "def extract_coordinates_from_image(image_path):\n",
    "    # Read the image\n",
    "    binary_image = cv2.imread(image_path, cv2.IMREAD_GRAYSCALE)\n",
    "\n",
    "    if binary_image is None:\n",
    "        print(\"Error: Unable to read the image.\")\n",
    "        return \n",
    "\n",
    "    # Threshold the image to obtain a binary image\n",
    "    _, binary_image = cv2.threshold(binary_image, 128, 255, cv2.THRESH_BINARY)\n",
    "\n",
    "    # Get the coordinates of the white pixels (points)\n",
    "    point_coordinates = []\n",
    "    rows, cols = binary_image.shape\n",
    "\n",
    "    for y in range(rows):\n",
    "        for x in range(cols):\n",
    "            if binary_image[y, x] == 255:\n",
    "                point_coordinates.append((x, y))\n",
    "        # print(point_coordinates)\n",
    "\n",
    "    return point_coordinates\n"
   ]
  },
  {
   "cell_type": "code",
   "execution_count": 15,
   "metadata": {},
   "outputs": [],
   "source": [
    "def random_ripley_k():\n",
    "    return "
   ]
  },
  {
   "cell_type": "code",
   "execution_count": 16,
   "metadata": {},
   "outputs": [],
   "source": [
    "def confidence_interval(h, azimuth):\n",
    "    return "
   ]
  },
  {
   "cell_type": "code",
   "execution_count": 17,
   "metadata": {},
   "outputs": [],
   "source": [
    "def edge_correction():\n",
    "    return 1"
   ]
  },
  {
   "cell_type": "code",
   "execution_count": 18,
   "metadata": {},
   "outputs": [
    {
     "name": "stdout",
     "output_type": "stream",
     "text": [
      "998\n"
     ]
    }
   ],
   "source": [
    "def directional_k(image_path):\n",
    "    point_coordinates=extract_coordinates_from_image(image_path)\n",
    "    print(len(point_coordinates))\n",
    "    \n",
    "\n",
    "image_path=\"random_sample.png\"\n",
    "directional_k(image_path)"
   ]
  }
 ],
 "metadata": {
  "kernelspec": {
   "display_name": "Python 3",
   "language": "python",
   "name": "python3"
  },
  "language_info": {
   "codemirror_mode": {
    "name": "ipython",
    "version": 3
   },
   "file_extension": ".py",
   "mimetype": "text/x-python",
   "name": "python",
   "nbconvert_exporter": "python",
   "pygments_lexer": "ipython3",
   "version": "3.10.11"
  }
 },
 "nbformat": 4,
 "nbformat_minor": 2
}
